{
 "cells": [
  {
   "cell_type": "markdown",
   "metadata": {},
   "source": [
    "## 七月在线电商点击率预估特训营结业考试\n",
    "#### 考试说明:\n",
    "- 起止时间：<font color=red><b>2020年4月9日10:00 - 2020年4月16日22:00</b></font>，<b>逾期不接受补考</b>\n",
    "- 考试提交方式：<font color=red><b> 将试卷下载到本地作答</b></font>，本地作答完成后将文件命名为<font color=red><b>\"姓名_学号\"</b></font>并上传到：http://47.93.208.249:9925/tree/0.Teacher/Exam/Stage1 \n",
    "- 注意事项：为确保同学们真正了解自身对这次课程的掌握程度，<font color=red><b>请勿翻阅抄袭，移动，更改</b></font>其它同学的试卷，如发现按0分处理。\n",
    "- 请同学在下方同学姓名处填写自己的姓名，批改人和最终得分处不用填写，试卷总分为100分。"
   ]
  },
  {
   "cell_type": "markdown",
   "metadata": {},
   "source": [
    "- 同学姓名: blackzero_465973\n",
    "- 批改人： \n",
    "- 最终得分:"
   ]
  },
  {
   "cell_type": "markdown",
   "metadata": {},
   "source": [
    "## 一、理论题（40分）"
   ]
  },
  {
   "cell_type": "markdown",
   "metadata": {},
   "source": [
    "#### 1、为什么LR可以用来作CTR预估？（10分）"
   ]
  },
  {
   "cell_type": "markdown",
   "metadata": {
    "collapsed": true
   },
   "source": []
  },
  {
   "cell_type": "markdown",
   "metadata": {},
   "source": [
    "#### 2、 FM中二阶交叉项的权值矩阵大小为？（其中N为特征数量，K为隐因子数量）（10分）"
   ]
  },
  {
   "cell_type": "markdown",
   "metadata": {},
   "source": [
    "A N x N\n",
    "\n",
    "B N x K\n",
    "\n",
    "C K x K"
   ]
  },
  {
   "cell_type": "markdown",
   "metadata": {
    "collapsed": true
   },
   "source": [
    "答案：B"
   ]
  },
  {
   "cell_type": "markdown",
   "metadata": {},
   "source": [
    "#### 3、请你说一下FNN的优点和缺点，各列举一条（10分）"
   ]
  },
  {
   "cell_type": "code",
   "execution_count": null,
   "metadata": {
    "collapsed": true
   },
   "outputs": [],
   "source": []
  },
  {
   "cell_type": "markdown",
   "metadata": {},
   "source": [
    "#### 4、请说一下 PNN 中 Product Layer 非线性部分的两种形式以及他们的区别。（10分）"
   ]
  },
  {
   "cell_type": "code",
   "execution_count": null,
   "metadata": {
    "collapsed": true
   },
   "outputs": [],
   "source": []
  },
  {
   "cell_type": "markdown",
   "metadata": {},
   "source": [
    "## 二、代码题（60分）"
   ]
  },
  {
   "cell_type": "code",
   "execution_count": 15,
   "metadata": {},
   "outputs": [],
   "source": [
    "import numpy as np\n",
    "import tensorflow as tf\n",
    "import utils\n",
    "from main import *\n",
    "dtype = utils.DTYPE"
   ]
  },
  {
   "cell_type": "markdown",
   "metadata": {},
   "source": [
    "<font color=red>注意：请下载试卷后在自己的电脑上运行代码，另外当前目录下的 main.py、utils.py 和 data 文件夹（即第二阶段的 data 文件夹）需要一同下载</font>"
   ]
  },
  {
   "cell_type": "code",
   "execution_count": 16,
   "metadata": {},
   "outputs": [],
   "source": [
    "class Model:\n",
    "    def __init__(self):\n",
    "        self.sess = None\n",
    "        self.X = None\n",
    "        self.y = None\n",
    "        self.layer_keeps = None\n",
    "        self.vars = None\n",
    "        self.keep_prob_train = None\n",
    "        self.keep_prob_test = None\n",
    "\n",
    "    def run(self, fetches, X=None, y=None, mode='train'):\n",
    "            feed_dict = {}\n",
    "            if type(self.X) is list:\n",
    "                for i in range(len(X)):\n",
    "                    feed_dict[self.X[i]] = X[i]\n",
    "            else:\n",
    "                feed_dict[self.X] = X\n",
    "            if y is not None:\n",
    "                feed_dict[self.y] = y\n",
    "            if self.layer_keeps is not None:\n",
    "                if mode == 'train':\n",
    "                    feed_dict[self.layer_keeps] = self.keep_prob_train\n",
    "                elif mode == 'test':\n",
    "                    feed_dict[self.layer_keeps] = self.keep_prob_test\n",
    "            return self.sess.run(fetches, feed_dict)\n",
    "\n",
    "    def dump(self, model_path):\n",
    "        var_map = {}\n",
    "        for name, var in self.vars.iteritems():\n",
    "            var_map[name] = self.run(var)\n",
    "        pkl.dump(var_map, open(model_path, 'wb'))\n",
    "        print('model dumped at', model_path)"
   ]
  },
  {
   "cell_type": "markdown",
   "metadata": {},
   "source": [
    "#### 1. 请你补全下面 LR 类中缺失的代码，然后运行程序，输出AUC结果（30分）"
   ]
  },
  {
   "cell_type": "code",
   "execution_count": 17,
   "metadata": {},
   "outputs": [],
   "source": [
    "class LR(Model):\n",
    "    def __init__(self, input_dim=None, output_dim=1, init_path=None, opt_algo='gd', learning_rate=1e-2, l2_weight=0,\n",
    "                 random_seed=None):\n",
    "        Model.__init__(self)\n",
    "        init_vars = [('w', [input_dim, output_dim], 'tnormal', dtype),\n",
    "                     ('b', [output_dim], 'zero', dtype)]\n",
    "        self.graph = tf.Graph()\n",
    "        with self.graph.as_default():\n",
    "            if random_seed is not None:\n",
    "                tf.set_random_seed(random_seed) # 设置随机种子\n",
    "            self.X = tf.sparse_placeholder(dtype) \n",
    "            self.y = tf.placeholder(dtype)\n",
    "            self.vars = utils.init_var_map(init_vars, init_path) # 初始化参数\n",
    "\n",
    "            w = self.vars['w'] # ToDo\n",
    "            b = self.vars['b']# ToDo\n",
    "            xw = tf.sparse_tensor_dense_matmul(self.X, w)# ToDo 稀疏向量的乘法\n",
    "            logits = tf.reshape(xw + b, [-1])# ToDo\n",
    "            self.y_prob = tf.sigmoid(logits)# ToDo\n",
    "\n",
    "            self.loss = tf.reduce_mean(\n",
    "                        tf.nn.sigmoid_cross_entropy_with_logits(labels=self.y, logits=logits)) + \\\n",
    "                        l2_weight * tf.nn.l2_loss(xw) # ToDo\n",
    "            self.optimizer = utils.get_optimizer(opt_algo, learning_rate, self.loss)\n",
    "\n",
    "            config = tf.ConfigProto()\n",
    "            config.gpu_options.allow_growth = True\n",
    "            self.sess = tf.Session(config=config)\n",
    "            tf.global_variables_initializer().run(session=self.sess)"
   ]
  },
  {
   "cell_type": "code",
   "execution_count": 18,
   "metadata": {},
   "outputs": [
    {
     "name": "stdout",
     "output_type": "stream",
     "text": [
      "[0]\tloss (with l2 norm):nan\ttrain-auc: 0.556723\teval-auc: 0.366390\n",
      "[1]\tloss (with l2 norm):nan\ttrain-auc: 0.593493\teval-auc: 0.495725\n",
      "[2]\tloss (with l2 norm):nan\ttrain-auc: 0.603632\teval-auc: 0.561920\n",
      "[3]\tloss (with l2 norm):nan\ttrain-auc: 0.606890\teval-auc: 0.590865\n"
     ]
    }
   ],
   "source": [
    "lr_params = {\n",
    "            'input_dim': input_dim,\n",
    "            'opt_algo': 'gd',\n",
    "            'learning_rate': 0.001,\n",
    "            'l2_weight': 0,\n",
    "            'random_seed': 0\n",
    "        }\n",
    "\n",
    "model = LR(**lr_params)\n",
    "train(model)"
   ]
  },
  {
   "cell_type": "markdown",
   "metadata": {},
   "source": [
    "#### 2. 请你补全下面 FM 类中缺失的代码，然后运行程序，输出AUC结果（30分）"
   ]
  },
  {
   "cell_type": "code",
   "execution_count": 19,
   "metadata": {},
   "outputs": [
    {
     "ename": "SyntaxError",
     "evalue": "invalid syntax (<ipython-input-19-e05d49bd85e3>, line 20)",
     "output_type": "error",
     "traceback": [
      "\u001b[0;36m  File \u001b[0;32m\"<ipython-input-19-e05d49bd85e3>\"\u001b[0;36m, line \u001b[0;32m20\u001b[0m\n\u001b[0;31m    X_square = # ToDo\u001b[0m\n\u001b[0m                     ^\u001b[0m\n\u001b[0;31mSyntaxError\u001b[0m\u001b[0;31m:\u001b[0m invalid syntax\n"
     ]
    }
   ],
   "source": [
    "class FM(Model):\n",
    "    def __init__(self, input_dim=None, output_dim=1, factor_order=10, init_path=None, opt_algo='gd', learning_rate=1e-2,\n",
    "                 l2_w=0, l2_v=0, random_seed=None):\n",
    "        Model.__init__(self)\n",
    "        init_vars = [('w', [input_dim, output_dim], 'tnormal', dtype),\n",
    "                     ('v', [input_dim, factor_order], 'tnormal', dtype),\n",
    "                     ('b', [output_dim], 'zero', dtype)]\n",
    "        self.graph = tf.Graph()\n",
    "        with self.graph.as_default():\n",
    "            if random_seed is not None:\n",
    "                tf.set_random_seed(random_seed)\n",
    "            self.X = tf.sparse_placeholder(dtype)\n",
    "            self.y = tf.placeholder(dtype)\n",
    "            self.vars = utils.init_var_map(init_vars, init_path)\n",
    "\n",
    "            w = self.vars['w']\n",
    "            v = self.vars['v']\n",
    "            b = self.vars['b']\n",
    "\n",
    "            X_square = tf.SparseTensor(self.X.indices, tf.square(self.X.values), tf.to_int64(tf.shape(self.X)))\n",
    "            xv = tf.square(tf.sparse_tensor_dense_matmul(self.X, v))\n",
    "            p = 0.5 * tf.reshape(\n",
    "                tf.reduce_sum(xv - tf.sparse_tensor_dense_matmul(X_square, tf.square(v)), 1),\n",
    "                [-1, output_dim])\n",
    "            xw = tf.sparse_tensor_dense_matmul(self.X, w)\n",
    "            logits = tf.reshape(xw + b + p, [-1])\n",
    "            self.y_prob = tf.sigmoid(logits)\n",
    "\n",
    "            self.loss = tf.reduce_mean(\n",
    "                tf.nn.sigmoid_cross_entropy_with_logits(logits=logits, labels=self.y)) + \\\n",
    "                        l2_w * tf.nn.l2_loss(xw) + \\\n",
    "                        l2_v * tf.nn.l2_loss(xv)\n",
    "            self.optimizer = utils.get_optimizer(opt_algo, learning_rate, self.loss)\n",
    "\n",
    "            config = tf.ConfigProto()\n",
    "            config.gpu_options.allow_growth = True\n",
    "            self.sess = tf.Session(config=config)\n",
    "            tf.global_variables_initializer().run(session=self.sess)"
   ]
  },
  {
   "cell_type": "code",
   "execution_count": 20,
   "metadata": {},
   "outputs": [
    {
     "name": "stdout",
     "output_type": "stream",
     "text": [
      "[0]\tloss (with l2 norm):nan\ttrain-auc: 0.604528\teval-auc: 0.702614\n",
      "[1]\tloss (with l2 norm):nan\ttrain-auc: 0.603714\teval-auc: 0.706766\n",
      "[2]\tloss (with l2 norm):nan\ttrain-auc: 0.603062\teval-auc: 0.709575\n",
      "[3]\tloss (with l2 norm):nan\ttrain-auc: 0.602981\teval-auc: 0.711895\n"
     ]
    }
   ],
   "source": [
    "fm_params = {\n",
    "            'input_dim': input_dim,\n",
    "            'factor_order': 10,\n",
    "            'opt_algo': 'gd',\n",
    "            'learning_rate': 0.1,\n",
    "            'l2_w': 0,\n",
    "            'l2_v': 0,\n",
    "        }\n",
    "\n",
    "model = FM(**fm_params)\n",
    "train(model)"
   ]
  },
  {
   "cell_type": "code",
   "execution_count": null,
   "metadata": {},
   "outputs": [],
   "source": []
  }
 ],
 "metadata": {
  "kernelspec": {
   "display_name": "Python 3",
   "language": "python",
   "name": "python3"
  },
  "language_info": {
   "codemirror_mode": {
    "name": "ipython",
    "version": 3
   },
   "file_extension": ".py",
   "mimetype": "text/x-python",
   "name": "python",
   "nbconvert_exporter": "python",
   "pygments_lexer": "ipython3",
   "version": "3.6.5"
  },
  "toc": {
   "base_numbering": 1,
   "nav_menu": {},
   "number_sections": false,
   "sideBar": true,
   "skip_h1_title": false,
   "title_cell": "Table of Contents",
   "title_sidebar": "Contents",
   "toc_cell": false,
   "toc_position": {},
   "toc_section_display": true,
   "toc_window_display": false
  }
 },
 "nbformat": 4,
 "nbformat_minor": 2
}
